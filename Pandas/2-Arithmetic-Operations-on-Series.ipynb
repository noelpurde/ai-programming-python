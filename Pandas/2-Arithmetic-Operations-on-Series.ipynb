{
 "cells": [
  {
   "cell_type": "markdown",
   "id": "a51f8ad7",
   "metadata": {},
   "source": [
    "# 2\\. Arithmetic Operations on Pandas Series"
   ]
  },
  {
   "cell_type": "code",
   "execution_count": 1,
   "id": "6ec10c1d",
   "metadata": {},
   "outputs": [],
   "source": [
    "import pandas as pd"
   ]
  },
  {
   "cell_type": "code",
   "execution_count": 3,
   "id": "ce2a1de5",
   "metadata": {},
   "outputs": [
    {
     "data": {
      "text/plain": [
       "apples     10\n",
       "oranges     6\n",
       "bananas     3\n",
       "dtype: int64"
      ]
     },
     "execution_count": 3,
     "metadata": {},
     "output_type": "execute_result"
    }
   ],
   "source": [
    "# create a Pandas Series that stores a grocery list of just fruits\n",
    "fruits = pd.Series(data=[10, 6, 3], index=['apples', 'oranges', 'bananas'])\n",
    "# display the fruits Pandas Series\n",
    "fruits"
   ]
  },
  {
   "cell_type": "markdown",
   "id": "ad9adc1d",
   "metadata": {},
   "source": [
    "## Element-wise basic arithmetic operations"
   ]
  },
  {
   "cell_type": "code",
   "execution_count": 9,
   "id": "82da97d0",
   "metadata": {},
   "outputs": [
    {
     "name": "stdout",
     "output_type": "stream",
     "text": [
      "Original grocery list of fruits:\n",
      " apples     10\n",
      "oranges     6\n",
      "bananas     3\n",
      "dtype: int64\n",
      "\n",
      "fruits + 2:\n",
      " apples     12\n",
      "oranges     8\n",
      "bananas     5\n",
      "dtype: int64\n",
      "\n",
      "fruits - 2:\n",
      " apples     8\n",
      "oranges    4\n",
      "bananas    1\n",
      "dtype: int64\n",
      "\n",
      "fruits * 2:\n",
      " apples     20\n",
      "oranges    12\n",
      "bananas     6\n",
      "dtype: int64\n",
      "\n",
      "fruits / 2:\n",
      " apples     5.0\n",
      "oranges    3.0\n",
      "bananas    1.5\n",
      "dtype: float64\n"
     ]
    }
   ],
   "source": [
    "print('Original grocery list of fruits:\\n', fruits)\n",
    "print('\\nfruits + 2:\\n', fruits + 2)\n",
    "print('\\nfruits - 2:\\n', fruits - 2)\n",
    "print('\\nfruits * 2:\\n', fruits * 2)\n",
    "print('\\nfruits / 2:\\n', fruits / 2)"
   ]
  },
  {
   "cell_type": "markdown",
   "id": "4341e092",
   "metadata": {},
   "source": [
    "## Use mathematical functions from NumPy to operate on Series"
   ]
  },
  {
   "cell_type": "code",
   "execution_count": 12,
   "id": "e51f3d68",
   "metadata": {},
   "outputs": [
    {
     "name": "stdout",
     "output_type": "stream",
     "text": [
      "Original grocery list of fruits:\n",
      " apples     10\n",
      "oranges     6\n",
      "bananas     3\n",
      "dtype: int64\n",
      "\n",
      "EXP(X) =\n",
      " apples     22026.465795\n",
      "oranges      403.428793\n",
      "bananas       20.085537\n",
      "dtype: float64\n",
      "\n",
      "SQRT(X) =\n",
      " apples     3.162278\n",
      "oranges    2.449490\n",
      "bananas    1.732051\n",
      "dtype: float64\n",
      "\n",
      "POWER(X, 2) =\n",
      " apples     100\n",
      "oranges     36\n",
      "bananas      9\n",
      "dtype: int64\n"
     ]
    }
   ],
   "source": [
    "import numpy as np\n",
    "\n",
    "print('Original grocery list of fruits:\\n', fruits)\n",
    "print('\\nEXP(X) =\\n', np.exp(fruits))\n",
    "print('\\nSQRT(X) =\\n', np.sqrt(fruits))\n",
    "print('\\nPOWER(X, 2) =\\n', np.power(fruits, 2))"
   ]
  },
  {
   "cell_type": "markdown",
   "id": "62678f50",
   "metadata": {},
   "source": [
    "## Perform arithmetic operations on selected elements"
   ]
  },
  {
   "cell_type": "code",
   "execution_count": 23,
   "id": "c6b831e1",
   "metadata": {},
   "outputs": [
    {
     "name": "stdout",
     "output_type": "stream",
     "text": [
      "Original grocery list of fruits:\n",
      "  apples     10\n",
      "oranges     6\n",
      "bananas     3\n",
      "dtype: int64\n",
      "\n",
      "Amount of bananas + 2 = 5\n",
      "\n",
      "Amount of apples - 2 = 8\n",
      "\n",
      "Double the amount of apples and oranges:\n",
      " apples     20\n",
      "oranges    12\n",
      "dtype: int64\n",
      "\n",
      "Half the amount of apples and oranges:\n",
      " apples     20\n",
      "oranges    12\n",
      "dtype: int64\n"
     ]
    }
   ],
   "source": [
    "print('Original grocery list of fruits:\\n ', fruits)\n",
    "print('\\nAmount of bananas + 2 =', fruits['bananas'] + 2)\n",
    "print('\\nAmount of apples - 2 =', fruits['apples'] - 2)\n",
    "print('\\nDouble the amount of apples and oranges:\\n', fruits[['apples', 'oranges']] * 2)\n",
    "print('\\nHalf the amount of apples and oranges:\\n', fruits[['apples', 'oranges']] * 2)"
   ]
  }
 ],
 "metadata": {
  "kernelspec": {
   "display_name": "Python [conda env:root] *",
   "language": "python",
   "name": "conda-root-py"
  },
  "language_info": {
   "codemirror_mode": {
    "name": "ipython",
    "version": 3
   },
   "file_extension": ".py",
   "mimetype": "text/x-python",
   "name": "python",
   "nbconvert_exporter": "python",
   "pygments_lexer": "ipython3",
   "version": "3.9.13"
  }
 },
 "nbformat": 4,
 "nbformat_minor": 5
}
