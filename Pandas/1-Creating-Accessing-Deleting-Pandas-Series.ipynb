{
 "cells": [
  {
   "cell_type": "markdown",
   "id": "6e10eb7f",
   "metadata": {},
   "source": [
    "# 1\\. Creating Pandas Series"
   ]
  },
  {
   "cell_type": "code",
   "execution_count": 1,
   "id": "50adbd12",
   "metadata": {},
   "outputs": [],
   "source": [
    "# import Pandas as pd into Python\n",
    "import pandas as pd"
   ]
  },
  {
   "cell_type": "code",
   "execution_count": 2,
   "id": "7a07b6a0",
   "metadata": {},
   "outputs": [
    {
     "data": {
      "text/plain": [
       "'1.4.3'"
      ]
     },
     "execution_count": 2,
     "metadata": {},
     "output_type": "execute_result"
    }
   ],
   "source": [
    "# we can check the version of pandas\n",
    "pd.__version__"
   ]
  },
  {
   "cell_type": "markdown",
   "id": "e77d28c1",
   "metadata": {},
   "source": [
    "## Create a Series"
   ]
  },
  {
   "cell_type": "code",
   "execution_count": 3,
   "id": "9ff3b888",
   "metadata": {},
   "outputs": [
    {
     "data": {
      "text/plain": [
       "eggs       30\n",
       "apples      6\n",
       "milk      Yes\n",
       "bread      No\n",
       "dtype: object"
      ]
     },
     "execution_count": 3,
     "metadata": {},
     "output_type": "execute_result"
    }
   ],
   "source": [
    "# create a Pandas Series that stores a grocery list\n",
    "groceries = pd.Series(data = [30, 6, 'Yes', 'No'],\n",
    "                     index = ['eggs', 'apples', 'milk', 'bread'])\n",
    "groceries"
   ]
  },
  {
   "cell_type": "markdown",
   "id": "607e808b",
   "metadata": {},
   "source": [
    "## Print attributes - shape, ndim, and size"
   ]
  },
  {
   "cell_type": "code",
   "execution_count": 4,
   "id": "278a6f65",
   "metadata": {},
   "outputs": [
    {
     "name": "stdout",
     "output_type": "stream",
     "text": [
      "Groceries has shape: (4,)\n",
      "Groceries has dimension: 1\n",
      "Groceries has a total of 4 elements\n"
     ]
    }
   ],
   "source": [
    "# print some information about groceries\n",
    "print('Groceries has shape:', groceries.shape)\n",
    "print('Groceries has dimension:', groceries.ndim)\n",
    "print('Groceries has a total of', groceries.size, 'elements')"
   ]
  },
  {
   "cell_type": "markdown",
   "id": "31e13548",
   "metadata": {},
   "source": [
    "## Print attributes - values, and index"
   ]
  },
  {
   "cell_type": "code",
   "execution_count": 5,
   "id": "95b72a95",
   "metadata": {},
   "outputs": [
    {
     "name": "stdout",
     "output_type": "stream",
     "text": [
      "The data in Groceries : [30 6 'Yes' 'No']\n",
      "The index of Groceries : Index(['eggs', 'apples', 'milk', 'bread'], dtype='object')\n"
     ]
    }
   ],
   "source": [
    "# print the index and data of groceries\n",
    "print('The data in Groceries :', groceries.values)\n",
    "print('The index of Groceries :', groceries.index)"
   ]
  },
  {
   "cell_type": "markdown",
   "id": "1b2895ea",
   "metadata": {},
   "source": [
    "## Check if an index is available in the given Series"
   ]
  },
  {
   "cell_type": "code",
   "execution_count": 6,
   "id": "a03ed932",
   "metadata": {},
   "outputs": [
    {
     "name": "stdout",
     "output_type": "stream",
     "text": [
      "Is bananas an index label in Groceries: False\n",
      "Is bread an index label in Groceries: True\n"
     ]
    }
   ],
   "source": [
    "# check whether bananas is a food item (an index) in groceries\n",
    "x = 'bananas' in groceries\n",
    "\n",
    "# We check whether bread is a food item (an index) in groceries\n",
    "y = 'bread' in groceries\n",
    "\n",
    "# print the results\n",
    "print('Is bananas an index label in Groceries:', x)\n",
    "print('Is bread an index label in Groceries:', y)"
   ]
  },
  {
   "cell_type": "markdown",
   "id": "0f07b5b3",
   "metadata": {},
   "source": [
    "## Access elements using index labels"
   ]
  },
  {
   "cell_type": "code",
   "execution_count": 7,
   "id": "2d320f38",
   "metadata": {
    "scrolled": false
   },
   "outputs": [
    {
     "name": "stdout",
     "output_type": "stream",
     "text": [
      "How many eggs do we need to buy: 30\n",
      "\n",
      "Do we need milk and bread?\n",
      " milk     Yes\n",
      "bread     No\n",
      "dtype: object\n",
      "\n",
      "How many eggs and apples do we need to buy:\n",
      " eggs      30\n",
      "apples     6\n",
      "dtype: object\n",
      "\n",
      "How many eggs and apples do we need to buy:\n",
      " eggs      30\n",
      "apples     6\n",
      "dtype: object\n",
      "\n",
      "Do we need bread:\n",
      " bread    No\n",
      "dtype: object\n",
      "\n",
      "How many eggs do we need to buy: 30\n",
      "\n",
      "Do we need milk and bread:\n",
      " milk     Yes\n",
      "bread     No\n",
      "dtype: object\n"
     ]
    }
   ],
   "source": [
    "# Access elements in Groceries using index labels:\n",
    "\n",
    "# use a single index label\n",
    "print(\"How many eggs do we need to buy:\", groceries['eggs'])\n",
    "\n",
    "# access multiple index labels\n",
    "print(\"\\nDo we need milk and bread?\\n\", groceries[['milk', 'bread']])\n",
    "\n",
    "# use loc to access multiple index labels\n",
    "print(\"\\nHow many eggs and apples do we need to buy:\\n\", groceries.loc[['eggs', 'apples']])\n",
    "\n",
    "# Access elements in Groceries using numerical indices:\n",
    "\n",
    "# use multiple numerical indices\n",
    "print(\"\\nHow many eggs and apples do we need to buy:\\n\", groceries[[0, 1]])\n",
    "\n",
    "# use a negative numerical index\n",
    "print(\"\\nDo we need bread:\\n\", groceries[[-1]])\n",
    "\n",
    "# use a single numerical index\n",
    "print(\"\\nHow many eggs do we need to buy:\", groceries[0])\n",
    "\n",
    "# use iloc to access multiple numerical indices\n",
    "print(\"\\nDo we need milk and bread:\\n\", groceries.iloc[[2, 3]])"
   ]
  },
  {
   "cell_type": "markdown",
   "id": "e0b2d3bf",
   "metadata": {},
   "source": [
    "## Mutate elements using index labels"
   ]
  },
  {
   "cell_type": "code",
   "execution_count": 8,
   "id": "aee50ead",
   "metadata": {},
   "outputs": [
    {
     "name": "stdout",
     "output_type": "stream",
     "text": [
      "Original Grocery List:\n",
      " eggs       30\n",
      "apples      6\n",
      "milk      Yes\n",
      "bread      No\n",
      "dtype: object\n",
      "\n",
      "Modified Grocery List:\n",
      " eggs        2\n",
      "apples      6\n",
      "milk      Yes\n",
      "bread      No\n",
      "dtype: object\n"
     ]
    }
   ],
   "source": [
    "# display the original grocery list\n",
    "print('Original Grocery List:\\n', groceries)\n",
    "\n",
    "# change the number of eggs to 2\n",
    "groceries['eggs'] = 2\n",
    "print('\\nModified Grocery List:\\n', groceries)"
   ]
  },
  {
   "cell_type": "markdown",
   "id": "d220ac1f",
   "metadata": {},
   "source": [
    "## Delete elements *out-of-place* using `drop()`"
   ]
  },
  {
   "cell_type": "code",
   "execution_count": 9,
   "id": "1553cba3",
   "metadata": {},
   "outputs": [
    {
     "name": "stdout",
     "output_type": "stream",
     "text": [
      "Original Grocery List:\n",
      " eggs        2\n",
      "apples      6\n",
      "milk      Yes\n",
      "bread      No\n",
      "dtype: object\n",
      "\n",
      "We remove apples (out of place):\n",
      " eggs       2\n",
      "milk     Yes\n",
      "bread     No\n",
      "dtype: object\n",
      "\n",
      "Grocery List after removing apples out of place:\n",
      " eggs        2\n",
      "apples      6\n",
      "milk      Yes\n",
      "bread      No\n",
      "dtype: object\n"
     ]
    }
   ],
   "source": [
    "print('Original Grocery List:\\n', groceries)\n",
    "print('\\nWe remove apples (out of place):\\n', groceries.drop('apples'))\n",
    "print('\\nGrocery List after removing apples out of place:\\n', groceries)"
   ]
  },
  {
   "cell_type": "markdown",
   "id": "2d039a55",
   "metadata": {},
   "source": [
    "## Delete elements *in-place* using `drop()`"
   ]
  },
  {
   "cell_type": "code",
   "execution_count": 10,
   "id": "275a4bc4",
   "metadata": {
    "scrolled": true
   },
   "outputs": [
    {
     "name": "stdout",
     "output_type": "stream",
     "text": [
      "Original Grocery List:\n",
      " eggs        2\n",
      "apples      6\n",
      "milk      Yes\n",
      "bread      No\n",
      "dtype: object\n",
      "\n",
      "Grocery List after removing apples in place:\n",
      " eggs       2\n",
      "milk     Yes\n",
      "bread     No\n",
      "dtype: object\n"
     ]
    }
   ],
   "source": [
    "print('Original Grocery List:\\n', groceries)\n",
    "groceries.drop('apples', inplace=True)\n",
    "print('\\nGrocery List after removing apples in place:\\n', groceries)"
   ]
  }
 ],
 "metadata": {
  "kernelspec": {
   "display_name": "Python [conda env:root] *",
   "language": "python",
   "name": "conda-root-py"
  },
  "language_info": {
   "codemirror_mode": {
    "name": "ipython",
    "version": 3
   },
   "file_extension": ".py",
   "mimetype": "text/x-python",
   "name": "python",
   "nbconvert_exporter": "python",
   "pygments_lexer": "ipython3",
   "version": "3.9.13"
  }
 },
 "nbformat": 4,
 "nbformat_minor": 5
}
