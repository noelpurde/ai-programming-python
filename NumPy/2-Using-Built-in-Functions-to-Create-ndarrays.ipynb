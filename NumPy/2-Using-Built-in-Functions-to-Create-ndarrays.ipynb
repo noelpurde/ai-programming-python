{
 "cells": [
  {
   "cell_type": "markdown",
   "id": "4fb589a4",
   "metadata": {},
   "source": [
    "# Using Built-in Functions to Create ndarrays"
   ]
  },
  {
   "cell_type": "markdown",
   "id": "b17c6eae",
   "metadata": {},
   "source": [
    "## Create a Numpy array of zeros with a desired shape"
   ]
  },
  {
   "cell_type": "code",
   "execution_count": 1,
   "id": "4d975f22",
   "metadata": {},
   "outputs": [],
   "source": [
    "import numpy as np"
   ]
  },
  {
   "cell_type": "code",
   "execution_count": 2,
   "id": "b4ce2575",
   "metadata": {},
   "outputs": [
    {
     "name": "stdout",
     "output_type": "stream",
     "text": [
      "[[0. 0. 0. 0.]\n",
      " [0. 0. 0. 0.]\n",
      " [0. 0. 0. 0.]]\n",
      "\n",
      "X has dimensions: (3, 4)\n",
      "X is an object of type: <class 'numpy.ndarray'>\n",
      "The elements in X are of type: float64\n"
     ]
    }
   ],
   "source": [
    "# Create 3 x 4 ndarray full of zeros\n",
    "X = np.zeros((3, 4))\n",
    "print(X, end='\\n\\n')\n",
    "\n",
    "# Print information about X\n",
    "print(\"X has dimensions:\", X.shape)\n",
    "print(\"X is an object of type:\", type(X))\n",
    "print(\"The elements in X are of type:\", X.dtype)"
   ]
  },
  {
   "cell_type": "markdown",
   "id": "ac28aa81",
   "metadata": {},
   "source": [
    "## Create a Numpy array of ones"
   ]
  },
  {
   "cell_type": "code",
   "execution_count": 5,
   "id": "34dae9f4",
   "metadata": {},
   "outputs": [
    {
     "name": "stdout",
     "output_type": "stream",
     "text": [
      "[[1. 1.]\n",
      " [1. 1.]\n",
      " [1. 1.]]\n",
      "\n",
      "Y has dimensions: (3, 2)\n",
      "Y is an object of type: <class 'numpy.ndarray'>\n",
      "The elements in Y are of type: float64\n"
     ]
    }
   ],
   "source": [
    "# Create a 3 x 2 ndarray full of ones\n",
    "Y = np.ones((3, 2))\n",
    "print(Y, end=\"\\n\\n\")\n",
    "\n",
    "# Print information about Y\n",
    "print(\"Y has dimensions:\", Y.shape)\n",
    "print(\"Y is an object of type:\", type(Y))\n",
    "print(\"The elements in Y are of type:\", Y.dtype)"
   ]
  },
  {
   "cell_type": "markdown",
   "id": "e3f82490",
   "metadata": {},
   "source": [
    "## Create a Numpy array of constants"
   ]
  },
  {
   "cell_type": "code",
   "execution_count": 16,
   "id": "ecd870e7",
   "metadata": {},
   "outputs": [
    {
     "data": {
      "text/plain": [
       "array([[5, 5, 5],\n",
       "       [5, 5, 5]])"
      ]
     },
     "execution_count": 16,
     "metadata": {},
     "output_type": "execute_result"
    }
   ],
   "source": [
    "# Create a 2 x 3 ndarray full of fives. \n",
    "Z = np.full((2, 3), 5)\n",
    "Z"
   ]
  },
  {
   "cell_type": "markdown",
   "id": "89f8a180",
   "metadata": {},
   "source": [
    "## Create a Numpy array of an Identity matrix"
   ]
  },
  {
   "cell_type": "code",
   "execution_count": 10,
   "id": "41cac41e",
   "metadata": {},
   "outputs": [
    {
     "data": {
      "text/plain": [
       "array([[1., 0., 0., 0., 0.],\n",
       "       [0., 1., 0., 0., 0.],\n",
       "       [0., 0., 1., 0., 0.],\n",
       "       [0., 0., 0., 1., 0.],\n",
       "       [0., 0., 0., 0., 1.]])"
      ]
     },
     "execution_count": 10,
     "metadata": {},
     "output_type": "execute_result"
    }
   ],
   "source": [
    "# Create a 5 x 5 Identity matrix\n",
    "A = np.eye(5)\n",
    "A"
   ]
  },
  {
   "cell_type": "markdown",
   "id": "c7f47c16",
   "metadata": {},
   "source": [
    "## Create a Numpy array - diagonal matrix that is a square matrix of constants"
   ]
  },
  {
   "cell_type": "code",
   "execution_count": 12,
   "id": "0cd75fda",
   "metadata": {},
   "outputs": [
    {
     "data": {
      "text/plain": [
       "array([[10,  0,  0,  0,  0],\n",
       "       [ 0, 20,  0,  0,  0],\n",
       "       [ 0,  0, 30,  0,  0],\n",
       "       [ 0,  0,  0, 40,  0],\n",
       "       [ 0,  0,  0,  0, 50]])"
      ]
     },
     "execution_count": 12,
     "metadata": {},
     "output_type": "execute_result"
    }
   ],
   "source": [
    "# Create a 4 x 4 diagonal matrix that contains the numbers on its main diagonal\n",
    "B = np.diag([10, 20, 30, 40, 50])\n",
    "B"
   ]
  },
  {
   "cell_type": "markdown",
   "id": "45b79e35",
   "metadata": {},
   "source": [
    "## `numpy.arange`\n",
    "\n",
    "Syntax: `numpy.arange([`**`start`**`, ]`**`stop`**`, [`**`step`**`, ] dtype =`**`None`**`)`\n",
    "\n",
    "Returns evenly spaced values within a given interval."
   ]
  },
  {
   "cell_type": "code",
   "execution_count": 24,
   "id": "efe0131b",
   "metadata": {},
   "outputs": [
    {
     "data": {
      "text/plain": [
       "array([0, 1, 2, 3, 4, 5, 6, 7, 8, 9])"
      ]
     },
     "execution_count": 24,
     "metadata": {},
     "output_type": "execute_result"
    }
   ],
   "source": [
    "# Create a rank 1 ndarray that has sequential integers from 0 to 9\n",
    "arr1 = np.arange(10)\n",
    "arr1"
   ]
  },
  {
   "cell_type": "code",
   "execution_count": 25,
   "id": "f999a704",
   "metadata": {},
   "outputs": [
    {
     "data": {
      "text/plain": [
       "array([4, 5, 6, 7, 8, 9])"
      ]
     },
     "execution_count": 25,
     "metadata": {},
     "output_type": "execute_result"
    }
   ],
   "source": [
    "# Create a rank 1 ndarray that has sequential integers from 4 to 9\n",
    "arr2 = np.arange(4, 10)\n",
    "arr2"
   ]
  },
  {
   "cell_type": "code",
   "execution_count": 26,
   "id": "6634d6b4",
   "metadata": {},
   "outputs": [
    {
     "data": {
      "text/plain": [
       "array([ 1,  4,  7, 10, 13])"
      ]
     },
     "execution_count": 26,
     "metadata": {},
     "output_type": "execute_result"
    }
   ],
   "source": [
    "# Create a rank 1 ndarray that has evenly spaced integers from 1 to 13 in steps of 3\n",
    "arr3 = np.arange(1, 14, 3)\n",
    "arr3"
   ]
  },
  {
   "cell_type": "markdown",
   "id": "2bd3d3e3",
   "metadata": {},
   "source": [
    "## `numpy.linspace`\n",
    "\n",
    "Syntax: `numpy.linspace(`**`start`**`, `**`stop`**`, `**`num`**`= 50, endpoint=True, retstep=False, dtype =`**`None`**`, axis=0)`\n",
    "\n",
    "Returns evenly spaced numbers over a specified interval."
   ]
  },
  {
   "cell_type": "code",
   "execution_count": 32,
   "id": "7444d215",
   "metadata": {},
   "outputs": [
    {
     "data": {
      "text/plain": [
       "array([ 0.        ,  2.77777778,  5.55555556,  8.33333333, 11.11111111,\n",
       "       13.88888889, 16.66666667, 19.44444444, 22.22222222, 25.        ])"
      ]
     },
     "execution_count": 32,
     "metadata": {},
     "output_type": "execute_result"
    }
   ],
   "source": [
    "# Create a rank 1 ndarray that has 10 integers evenly spaced between 0 and 25\n",
    "arr4 = np.linspace(0, 25, 10)\n",
    "arr4"
   ]
  },
  {
   "cell_type": "code",
   "execution_count": 17,
   "id": "4d3fd265",
   "metadata": {},
   "outputs": [
    {
     "data": {
      "text/plain": [
       "array([ 0. ,  2.5,  5. ,  7.5, 10. , 12.5, 15. , 17.5, 20. , 22.5])"
      ]
     },
     "execution_count": 17,
     "metadata": {},
     "output_type": "execute_result"
    }
   ],
   "source": [
    "# Create a rank 1 ndarray that has 10 integers evenly spaced between 0 and 25, with 25 excluded\n",
    "arr5 = np.linspace(0, 25, 10, endpoint = False)\n",
    "arr5"
   ]
  },
  {
   "cell_type": "markdown",
   "id": "67113788",
   "metadata": {},
   "source": [
    "## `numpy.reshape` function\n",
    "\n",
    "Syntax: `numpy.reshape(`*`array, newshape, order='C')`*\n",
    "\n",
    "Gives a new shape to an array without changing its data."
   ]
  },
  {
   "cell_type": "code",
   "execution_count": 31,
   "id": "8f47a972",
   "metadata": {
    "scrolled": true
   },
   "outputs": [
    {
     "name": "stdout",
     "output_type": "stream",
     "text": [
      "Original array = [ 0  1  2  3  4  5  6  7  8  9 10 11 12 13 14 15 16 17 18 19]\n",
      "\n",
      "Reshaped array =\n",
      " [[ 0  1  2  3  4]\n",
      " [ 5  6  7  8  9]\n",
      " [10 11 12 13 14]\n",
      " [15 16 17 18 19]]\n",
      "Array dimensions: 2\n",
      "<class 'numpy.ndarray'>\n",
      "int64\n"
     ]
    }
   ],
   "source": [
    "# Create a rank 1 ndarray with sequential integers from 0 to 19\n",
    "arr6 = np.arange(20)\n",
    "print(\"Original array =\", arr6)\n",
    "\n",
    "# Reshape x into a 4 x 5 ndarray\n",
    "arr6 = np.reshape(arr6, (4, 5))\n",
    "print(\"\\nReshaped array =\\n\", arr6)\n",
    "print(\"Array dimensions:\", arr6.ndim)\n",
    "print(type(arr6))\n",
    "print(arr6.dtype)"
   ]
  },
  {
   "cell_type": "markdown",
   "id": "02ace244",
   "metadata": {},
   "source": [
    "## `numpy.ndarray.reshape` - method\n",
    "\n",
    "Syntax: `ndarray.reshape(`*`shape, order='C'`*`)`\n",
    "\n",
    "Returns an array containing the same data with a new shape."
   ]
  },
  {
   "cell_type": "code",
   "execution_count": 35,
   "id": "9254cc1f",
   "metadata": {},
   "outputs": [
    {
     "data": {
      "text/plain": [
       "array([[ 0,  1,  2,  3,  4],\n",
       "       [ 5,  6,  7,  8,  9],\n",
       "       [10, 11, 12, 13, 14],\n",
       "       [15, 16, 17, 18, 19]])"
      ]
     },
     "execution_count": 35,
     "metadata": {},
     "output_type": "execute_result"
    }
   ],
   "source": [
    "# Create a rank 1 ndarray with sequential integers from 0 to 19 and reshape it to a 4 x 5 array\n",
    "arr7 = np.arange(20).reshape(4, 5)\n",
    "arr7"
   ]
  },
  {
   "cell_type": "code",
   "execution_count": 36,
   "id": "b61c1444",
   "metadata": {},
   "outputs": [
    {
     "data": {
      "text/plain": [
       "array([[ 0.,  5.],\n",
       "       [10., 15.],\n",
       "       [20., 25.],\n",
       "       [30., 35.],\n",
       "       [40., 45.]])"
      ]
     },
     "execution_count": 36,
     "metadata": {},
     "output_type": "execute_result"
    }
   ],
   "source": [
    "# Create a rank 1 ndarray with 10 integers evenly spaced between 0 and 50, with 50 excluded.\n",
    "# Then reshape it to a 5 x 2 ndarray\n",
    "arr8 = np.linspace(0, 50, 10, endpoint=False).reshape(5, 2)\n",
    "arr8"
   ]
  },
  {
   "cell_type": "code",
   "execution_count": 51,
   "id": "f7f60529",
   "metadata": {},
   "outputs": [
    {
     "data": {
      "text/plain": [
       "array([[0.64958347, 0.18311799, 0.21742578],\n",
       "       [0.22424889, 0.06453682, 0.5879279 ],\n",
       "       [0.71515848, 0.60596226, 0.88633399]])"
      ]
     },
     "execution_count": 51,
     "metadata": {},
     "output_type": "execute_result"
    }
   ],
   "source": [
    "# Create a 3 x 3 ndarray with random floats in the half-open interval [0.0, 1.0).\n",
    "np.random.random((3, 3))"
   ]
  },
  {
   "cell_type": "code",
   "execution_count": 93,
   "id": "943bd108",
   "metadata": {},
   "outputs": [
    {
     "data": {
      "text/plain": [
       "array([[ 7,  9],\n",
       "       [ 5,  9],\n",
       "       [10, 14]])"
      ]
     },
     "execution_count": 93,
     "metadata": {},
     "output_type": "execute_result"
    }
   ],
   "source": [
    "# Create a 3 x 2 ndarray with random integers in the half-open interval [4, 15).\n",
    "np.random.randint(4, 15, size=(3, 2))"
   ]
  },
  {
   "cell_type": "markdown",
   "id": "bf9d2503",
   "metadata": {},
   "source": [
    "**`np.random.normal(mean, standard deviation, size=shape)`**\n",
    "\n",
    "Creates an ndarray with the given `shape` that contains random numbers picked from a `normal` (Gaussian) distribution with the given `mean` and `standard deviation`."
   ]
  },
  {
   "cell_type": "code",
   "execution_count": 92,
   "id": "259ec714",
   "metadata": {},
   "outputs": [
    {
     "data": {
      "text/plain": [
       "array([[ 0.07964942, -0.07805102, -0.05051442, ..., -0.13233207,\n",
       "         0.06251273, -0.02002545],\n",
       "       [ 0.03863298, -0.02022208,  0.13141425, ..., -0.1505074 ,\n",
       "         0.04177118, -0.15713625],\n",
       "       [ 0.1417936 , -0.02894599,  0.07271848, ..., -0.12651055,\n",
       "        -0.08148068, -0.09627197],\n",
       "       ...,\n",
       "       [-0.01000852,  0.12098828, -0.1556035 , ...,  0.0417002 ,\n",
       "         0.04867479,  0.05644798],\n",
       "       [ 0.02237573,  0.17180022,  0.11208925, ...,  0.1028789 ,\n",
       "         0.00916841, -0.07782261],\n",
       "       [-0.07789784, -0.06517056, -0.05564137, ...,  0.07028896,\n",
       "        -0.15974858,  0.00230265]])"
      ]
     },
     "execution_count": 92,
     "metadata": {},
     "output_type": "execute_result"
    }
   ],
   "source": [
    "# Create a 1000 x 1000 ndarray of random floats drawn from normal (Gaussian) distribution\n",
    "# with a mean of zero and a standard deviation of 0.1.\n",
    "np.random.normal(0, 0.1, size=(1000, 1000))"
   ]
  }
 ],
 "metadata": {
  "kernelspec": {
   "display_name": "Python 3 (ipykernel)",
   "language": "python",
   "name": "python3"
  },
  "language_info": {
   "codemirror_mode": {
    "name": "ipython",
    "version": 3
   },
   "file_extension": ".py",
   "mimetype": "text/x-python",
   "name": "python",
   "nbconvert_exporter": "python",
   "pygments_lexer": "ipython3",
   "version": "3.9.13"
  }
 },
 "nbformat": 4,
 "nbformat_minor": 5
}
