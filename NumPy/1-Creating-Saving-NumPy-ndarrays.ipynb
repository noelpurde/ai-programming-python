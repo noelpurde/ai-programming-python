{
 "cells": [
  {
   "cell_type": "markdown",
   "id": "70e9249e",
   "metadata": {},
   "source": [
    "# Why Use NumPy?"
   ]
  },
  {
   "cell_type": "markdown",
   "id": "8d6951a3",
   "metadata": {},
   "source": [
    "### Benefits of using NumPy:\n",
    "\n",
    "**1. Speed**\n",
    "\n",
    "**2. Multidimensional array data structures**\n",
    "\n",
    "**3. Optimized built-in mathematical functions**"
   ]
  },
  {
   "cell_type": "code",
   "execution_count": 29,
   "id": "276bd1d4",
   "metadata": {},
   "outputs": [
    {
     "name": "stdout",
     "output_type": "stream",
     "text": [
      "Case 1: 6.318641424179077\n",
      "Case 2: 0.06072711944580078\n"
     ]
    }
   ],
   "source": [
    "# Why use NumPy?\n",
    "import time\n",
    "import numpy as np\n",
    "x = np.random.random(100_000_000)\n",
    "\n",
    "# Case 1\n",
    "start = time.time()\n",
    "sum(x) / len(x)\n",
    "print(\"Case 1:\", time.time() - start)\n",
    "\n",
    "# Case 2\n",
    "start = time.time()\n",
    "np.mean(x)\n",
    "print(\"Case 2:\", time.time() - start)"
   ]
  },
  {
   "cell_type": "code",
   "execution_count": 32,
   "id": "7a1d8046",
   "metadata": {},
   "outputs": [
    {
     "name": "stdout",
     "output_type": "stream",
     "text": [
      "103.6x faster!\n"
     ]
    }
   ],
   "source": [
    "print(f\"{round(6.319 / 0.061, 1)}x faster!\")"
   ]
  },
  {
   "cell_type": "markdown",
   "id": "73f2556d",
   "metadata": {},
   "source": [
    "# Creating and Saving NumPy ndarrays"
   ]
  },
  {
   "cell_type": "code",
   "execution_count": 33,
   "id": "bb34f281",
   "metadata": {},
   "outputs": [
    {
     "data": {
      "text/plain": [
       "array([1, 2, 3, 4, 5])"
      ]
     },
     "execution_count": 33,
     "metadata": {},
     "output_type": "execute_result"
    }
   ],
   "source": [
    "# Create a 1D array that contains only integers\n",
    "x = np.array([1, 2, 3, 4, 5])\n",
    "x"
   ]
  },
  {
   "cell_type": "markdown",
   "id": "a7fd1029",
   "metadata": {},
   "source": [
    "### `numpy.ndarray.ndim`\n",
    "\n",
    "**Rank of an Array** - number of dimensions it has\n",
    "\n",
    "Syntax: `ndarray.ndim`\n",
    "\n",
    "Returns the number of array dimensions."
   ]
  },
  {
   "cell_type": "code",
   "execution_count": 35,
   "id": "c8ae0c76",
   "metadata": {},
   "outputs": [
    {
     "data": {
      "text/plain": [
       "1"
      ]
     },
     "execution_count": 35,
     "metadata": {},
     "output_type": "execute_result"
    }
   ],
   "source": [
    "# 1-D array\n",
    "x = np.array([1, 2, 3])\n",
    "x.ndim"
   ]
  },
  {
   "cell_type": "code",
   "execution_count": 40,
   "id": "23ed5cc6",
   "metadata": {},
   "outputs": [
    {
     "data": {
      "text/plain": [
       "2"
      ]
     },
     "execution_count": 40,
     "metadata": {},
     "output_type": "execute_result"
    }
   ],
   "source": [
    "# 2-D array\n",
    "y = np.array([ [1, 2, 3], [4, 5, 6], [7, 8, 9] ])\n",
    "y.ndim"
   ]
  },
  {
   "cell_type": "code",
   "execution_count": 43,
   "id": "746ec43c",
   "metadata": {},
   "outputs": [
    {
     "data": {
      "text/plain": [
       "3"
      ]
     },
     "execution_count": 43,
     "metadata": {},
     "output_type": "execute_result"
    }
   ],
   "source": [
    "# 3-D array\n",
    "z = np.ones((2, 3, 4))\n",
    "z.ndim"
   ]
  },
  {
   "cell_type": "markdown",
   "id": "0d617945",
   "metadata": {},
   "source": [
    "In general *N*-Dimensional arrays have rank *N*."
   ]
  },
  {
   "cell_type": "markdown",
   "id": "7e4e9e6f",
   "metadata": {},
   "source": [
    "### `numpy.ndarray.shape`\n",
    "\n",
    "Syntax: `ndarray.shape`\n",
    "\n",
    "Returns a tuple representing the array dimensions."
   ]
  },
  {
   "cell_type": "code",
   "execution_count": 46,
   "id": "bfbdae94",
   "metadata": {},
   "outputs": [
    {
     "data": {
      "text/plain": [
       "(3,)"
      ]
     },
     "execution_count": 46,
     "metadata": {},
     "output_type": "execute_result"
    }
   ],
   "source": [
    "x.shape"
   ]
  },
  {
   "cell_type": "code",
   "execution_count": 44,
   "id": "23cbd956",
   "metadata": {
    "scrolled": true
   },
   "outputs": [
    {
     "data": {
      "text/plain": [
       "(3, 3)"
      ]
     },
     "execution_count": 44,
     "metadata": {},
     "output_type": "execute_result"
    }
   ],
   "source": [
    "y.shape"
   ]
  },
  {
   "cell_type": "code",
   "execution_count": 45,
   "id": "5567e809",
   "metadata": {
    "scrolled": true
   },
   "outputs": [
    {
     "data": {
      "text/plain": [
       "(2, 3, 4)"
      ]
     },
     "execution_count": 45,
     "metadata": {},
     "output_type": "execute_result"
    }
   ],
   "source": [
    "z.shape"
   ]
  },
  {
   "cell_type": "markdown",
   "id": "d2d1507b",
   "metadata": {},
   "source": [
    "### `numpy.ndarray.dtype`\n",
    "\n",
    "Syntax: `ndarray.dtype`\n",
    "\n",
    "Returns the data-type of the elements."
   ]
  },
  {
   "cell_type": "markdown",
   "id": "3e0fe66b",
   "metadata": {},
   "source": [
    "#### Using a 1-D Array of Integers"
   ]
  },
  {
   "cell_type": "code",
   "execution_count": 52,
   "id": "7b28e1f7",
   "metadata": {},
   "outputs": [
    {
     "name": "stdout",
     "output_type": "stream",
     "text": [
      "x = [56 12 89  2 71]\n",
      "x has dimensions: 1\n",
      "x is an object of type: <class 'numpy.ndarray'>\n",
      "The elements of in x are of type: int64\n"
     ]
    }
   ],
   "source": [
    "# Create a 1D array that contains only integers\n",
    "x = np.array([56, 12, 89, 2, 71])\n",
    "\n",
    "# Print information about x\n",
    "print('x =', x)\n",
    "print('x has dimensions:', x.ndim)\n",
    "print('x is an object of type:', type(x))\n",
    "print('The elements of in x are of type:', x.dtype)"
   ]
  },
  {
   "cell_type": "markdown",
   "id": "1c7f1916",
   "metadata": {},
   "source": [
    "*`.dtype` attribute tells that the elements of x are stored in memory as **signed 64-bit integers**.*"
   ]
  },
  {
   "cell_type": "markdown",
   "id": "20e7c79f",
   "metadata": {},
   "source": [
    "#### Using 1-D Array of Strings"
   ]
  },
  {
   "cell_type": "code",
   "execution_count": 58,
   "id": "f3bd9648",
   "metadata": {},
   "outputs": [
    {
     "name": "stdout",
     "output_type": "stream",
     "text": [
      "x = ['hello' 'world']\n",
      "x has dimensions: 1\n",
      "x is an object of type: <class 'numpy.ndarray'>\n",
      "The elements of in x are of type: <U5\n"
     ]
    }
   ],
   "source": [
    "# Create a rank 1 ndarray that only contains strings\n",
    "y = np.array(['hello', 'world'])\n",
    "\n",
    "# Print information about y\n",
    "print('x =', y)\n",
    "print('x has dimensions:', y.ndim)\n",
    "print('x is an object of type:', type(y))\n",
    "print('The elements of in x are of type:', y.dtype)"
   ]
  },
  {
   "cell_type": "markdown",
   "id": "3bf47140",
   "metadata": {},
   "source": [
    "*`.dtype` attribute tells that the elements of x are stored in memory as **Unicode strings of 5 characters**.*"
   ]
  },
  {
   "cell_type": "markdown",
   "id": "284ff2a3",
   "metadata": {},
   "source": [
    "#### Using a 1-D Array of Mixed Datatype"
   ]
  },
  {
   "cell_type": "code",
   "execution_count": 60,
   "id": "82f6e6c1",
   "metadata": {
    "scrolled": true
   },
   "outputs": [
    {
     "name": "stdout",
     "output_type": "stream",
     "text": [
      "x = ['10' '99' 'HELLO']\n",
      "x has dimensions: 1\n",
      "x is an object of type: <class 'numpy.ndarray'>\n",
      "The elements of in x are of type: <U21\n"
     ]
    }
   ],
   "source": [
    "# Create a rank 1 ndarray from a Python list that contains integers and strings\n",
    "z = np.array([10, 99, \"HELLO\"])\n",
    "\n",
    "# Print information about z\n",
    "print('x =', z)\n",
    "print('x has dimensions:', z.ndim)\n",
    "print('x is an object of type:', type(z))\n",
    "print('The elements of in x are of type:', z.dtype)"
   ]
  },
  {
   "cell_type": "markdown",
   "id": "0c2f873f",
   "metadata": {},
   "source": [
    "*We can see that even though the Python list had mixed data types, the elements in x are all of the same type, namely, **Unicode strings of 21 characters**.*"
   ]
  },
  {
   "cell_type": "markdown",
   "id": "70a82729",
   "metadata": {},
   "source": [
    "#### Using a 1-D Array of Int and Float"
   ]
  },
  {
   "cell_type": "code",
   "execution_count": 61,
   "id": "102e434e",
   "metadata": {},
   "outputs": [
    {
     "name": "stdout",
     "output_type": "stream",
     "text": [
      "The elements in x are of type: int64\n",
      "The elements in y are of type: float64\n",
      "The elements in z are of type: float64\n"
     ]
    }
   ],
   "source": [
    "# Create a rank 1 ndarray that contains integers\n",
    "x = np.array([10, 20, 30])\n",
    "\n",
    "# Create a rank 1 ndarray that contains floats\n",
    "y = np.array([10.0, 20.0, 30.0])\n",
    "\n",
    "# Create a rank 1 ndarray that contains integers and floats\n",
    "z = np.array([1, 2.5, 3])\n",
    "\n",
    "# We print the dtype of each ndarray\n",
    "print('The elements in x are of type:', x.dtype)\n",
    "print('The elements in y are of type:', y.dtype)\n",
    "print('The elements in z are of type:', z.dtype)"
   ]
  },
  {
   "cell_type": "markdown",
   "id": "0b6487bb",
   "metadata": {},
   "source": [
    "#### Using a 1-D Array of Float, and specifying the datatype of each element as int64"
   ]
  },
  {
   "cell_type": "code",
   "execution_count": 63,
   "id": "965dbe3a",
   "metadata": {},
   "outputs": [
    {
     "name": "stdout",
     "output_type": "stream",
     "text": [
      "x = [1 2 3 4 5]\n",
      "The elements in x are of type: int64\n"
     ]
    }
   ],
   "source": [
    "# Create a rank 1 ndarray of floats but set the dtype to int64\n",
    "x = np.array([1.5, 2.2, 3.7, 4.0, 5.9], dtype = np.int64)\n",
    "\n",
    "# Print the dtype x\n",
    "print('x =', x)\n",
    "print('The elements in x are of type:', x.dtype)"
   ]
  },
  {
   "cell_type": "markdown",
   "id": "ab939307",
   "metadata": {},
   "source": [
    "### `numpy.ndarray.size`\n",
    "\n",
    "Syntax: `ndarray.size`\n",
    "\n",
    "Returns a total elements in array."
   ]
  },
  {
   "cell_type": "code",
   "execution_count": 73,
   "id": "ae4de74c",
   "metadata": {},
   "outputs": [
    {
     "name": "stdout",
     "output_type": "stream",
     "text": [
      "A =\n",
      " [[1 2 3]\n",
      " [4 5 6]\n",
      " [7 8 9]]\n",
      "A has dimensions: (3, 3)\n",
      "A has a total of 9 elements\n",
      "A is an object of type: <class 'numpy.ndarray'>\n",
      "The elements in A are of type: int64\n"
     ]
    }
   ],
   "source": [
    "# Create a rank 2 ndarray that only contains integers\n",
    "A = np.array([ [1, 2, 3], [4, 5, 6], [7, 8, 9] ])\n",
    "print('A =\\n', A)\n",
    "\n",
    "# Print information about A\n",
    "print('A has dimensions:', A.shape)\n",
    "print('A has a total of', A.size, 'elements')\n",
    "print('A is an object of type:', type(A))\n",
    "print('The elements in A are of type:', A.dtype)"
   ]
  },
  {
   "cell_type": "markdown",
   "id": "ad38c0d7",
   "metadata": {},
   "source": [
    "### Save the NumPy array to a File"
   ]
  },
  {
   "cell_type": "code",
   "execution_count": 84,
   "id": "1ad3157c",
   "metadata": {},
   "outputs": [],
   "source": [
    "# Create 1D array\n",
    "arr1 = np.array([9, 7, 5, 3, 1])\n",
    "\n",
    "# Save arr1 into the current directory\n",
    "np.save(\"my_array\", arr1)"
   ]
  },
  {
   "cell_type": "code",
   "execution_count": 85,
   "id": "a38ea28a",
   "metadata": {
    "hide_input": false
   },
   "outputs": [
    {
     "name": "stdout",
     "output_type": "stream",
     "text": [
      "\u001b[0m\u001b[01;32mNumPy-1.ipynb\u001b[0m*  \u001b[01;32mNumPy-2.ipynb\u001b[0m*  \u001b[01;32mmy_array.npy\u001b[0m*\r\n"
     ]
    }
   ],
   "source": [
    "ls"
   ]
  },
  {
   "cell_type": "code",
   "execution_count": 90,
   "id": "957b2b9e",
   "metadata": {},
   "outputs": [
    {
     "name": "stdout",
     "output_type": "stream",
     "text": [
      "a1 = [9 7 5 3 1]\n",
      "a1 is an object of type: <class 'numpy.ndarray'>\n",
      "The elements in a1 are of type: int64\n"
     ]
    }
   ],
   "source": [
    "# Load the saved array from current directory into variable a1\n",
    "a1 = np.load(\"my_array.npy\")\n",
    "\n",
    "print(\"a1 =\", a1)\n",
    "print(\"a1 is an object of type:\", type(a1))\n",
    "print(\"The elements in a1 are of type:\", a1.dtype)"
   ]
  }
 ],
 "metadata": {
  "kernelspec": {
   "display_name": "Python 3 (ipykernel)",
   "language": "python",
   "name": "python3"
  },
  "language_info": {
   "codemirror_mode": {
    "name": "ipython",
    "version": 3
   },
   "file_extension": ".py",
   "mimetype": "text/x-python",
   "name": "python",
   "nbconvert_exporter": "python",
   "pygments_lexer": "ipython3",
   "version": "3.9.12"
  }
 },
 "nbformat": 4,
 "nbformat_minor": 5
}
