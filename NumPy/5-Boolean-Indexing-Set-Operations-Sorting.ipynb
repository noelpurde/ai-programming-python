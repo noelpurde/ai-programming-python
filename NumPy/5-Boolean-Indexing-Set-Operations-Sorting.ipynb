{
 "cells": [
  {
   "cell_type": "markdown",
   "id": "ad2b8c39",
   "metadata": {},
   "source": [
    "# Boolean Indexing, Set Operations, and Sorting"
   ]
  },
  {
   "cell_type": "code",
   "execution_count": 1,
   "id": "8e167407",
   "metadata": {},
   "outputs": [],
   "source": [
    "import numpy as np"
   ]
  },
  {
   "cell_type": "markdown",
   "id": "5bcfb213",
   "metadata": {},
   "source": [
    "### Boolean indexing"
   ]
  },
  {
   "cell_type": "code",
   "execution_count": 11,
   "id": "9105db2f",
   "metadata": {},
   "outputs": [
    {
     "name": "stdout",
     "output_type": "stream",
     "text": [
      "x =\n",
      " [[ 0  1  2  3  4]\n",
      " [ 5  6  7  8  9]\n",
      " [10 11 12 13 14]\n",
      " [15 16 17 18 19]\n",
      " [20 21 22 23 24]]\n",
      "\n",
      "The elements in X that are greater than 10: [11 12 13 14 15 16 17 18 19 20 21 22 23 24]\n",
      "The elements in X that less than or equal to 7: [0 1 2 3 4 5 6 7]\n",
      "The elements in X that are between 10 and 17: [11 12 13 14 15 16]\n"
     ]
    }
   ],
   "source": [
    "# create a 5 x 5 ndarray that contains integers from 0 to 24\n",
    "x = np.arange(25).reshape(5, 5)\n",
    "print('x =\\n', x)\n",
    "\n",
    "print(\"\\nThe elements in X that are greater than 10:\", x[x > 10])\n",
    "print(\"The elements in X that less than or equal to 7:\", x[x <= 7])\n",
    "print(\"The elements in X that are between 10 and 17:\", x[(x > 10) & (x < 17)])"
   ]
  },
  {
   "cell_type": "markdown",
   "id": "fdd17358",
   "metadata": {},
   "source": [
    "### Set operations"
   ]
  },
  {
   "cell_type": "code",
   "execution_count": 21,
   "id": "10e3f7b5",
   "metadata": {},
   "outputs": [
    {
     "name": "stdout",
     "output_type": "stream",
     "text": [
      "x = [1 2 3 4 5]\n",
      "y = [2 4 6 7 8]\n",
      "The elements that are both in x and y: [2 4]\n",
      "The elements that are in x that are not in y: [1 3 5]\n",
      "All the elements of x and y: [1 2 3 4 5 6 7 8]\n"
     ]
    }
   ],
   "source": [
    "# create a rank 1 ndarray\n",
    "x = np.array([1, 2, 3, 4, 5])\n",
    "y = np.array([2, 4, 6, 7, 8])\n",
    "print('x =', x)\n",
    "print('y =', y)\n",
    "\n",
    "# use set operations to compare x and y:\n",
    "print('The elements that are both in x and y:', np.intersect1d(x, y))\n",
    "print('The elements that are in x that are not in y:', np.setdiff1d(x, y))\n",
    "print('All the elements of x and y:', np.union1d(x, y))"
   ]
  },
  {
   "cell_type": "markdown",
   "id": "0cd20b4e",
   "metadata": {},
   "source": [
    "## `numpy.ndarray.sort` method\n",
    "\n",
    "Syntax: `ndarray.sort(`*`axis=-1, kind=None, order=None`*`)`\n",
    "\n",
    "Sort an array in-place."
   ]
  },
  {
   "cell_type": "markdown",
   "id": "2058c804",
   "metadata": {},
   "source": [
    "### Sort arrays using sort() function"
   ]
  },
  {
   "cell_type": "code",
   "execution_count": 80,
   "id": "3c28c244",
   "metadata": {},
   "outputs": [
    {
     "name": "stdout",
     "output_type": "stream",
     "text": [
      "Array:\n",
      " [6 4 6 3 5 3 2 5 7 0]\n",
      "\n",
      "Sorted x (out of place):\n",
      " [0 2 3 3 4 5 5 6 6 7]\n"
     ]
    }
   ],
   "source": [
    "x = np.random.randint(0, 10, 10)\n",
    "print('Array:\\n', x)\n",
    "print('\\nSorted x (out of place):\\n', np.sort(x))"
   ]
  },
  {
   "cell_type": "code",
   "execution_count": 81,
   "id": "cc105866",
   "metadata": {},
   "outputs": [
    {
     "name": "stdout",
     "output_type": "stream",
     "text": [
      "[0 2 3 4 5 6 7]\n"
     ]
    }
   ],
   "source": [
    "# Returns the sorted unique elements of an array\n",
    "print(np.unique(x))"
   ]
  },
  {
   "cell_type": "markdown",
   "id": "1544dee6",
   "metadata": {},
   "source": [
    "### Sort rank-1 arrays using sort() method"
   ]
  },
  {
   "cell_type": "code",
   "execution_count": 89,
   "id": "e9a8ff91",
   "metadata": {},
   "outputs": [
    {
     "name": "stdout",
     "output_type": "stream",
     "text": [
      "y = [44 67 75 74 37 10 56 80 38 78 30]\n",
      "\n",
      "y after sorting: [10 30 37 38 44 56 67 74 75 78 80]\n"
     ]
    }
   ],
   "source": [
    "y = np.random.randint(10, 101, size=11)\n",
    "print('y =', y)\n",
    "\n",
    "y.sort()\n",
    "print('\\ny after sorting:', y)"
   ]
  },
  {
   "cell_type": "markdown",
   "id": "418291a6",
   "metadata": {},
   "source": [
    "## `numpy.sort` function\n",
    "\n",
    "Syntax: `numpy.sort(`*`array, axis=-1, kind=None, order=None`*`)`\n",
    "\n",
    "Return a sorted copy of an array.\n",
    "\n",
    "> ***Tip:*** *You can read axis = 0 as \"**down**\" and axis = 1 as \"**across**\" the given 2-D array, to have a correct usage of axis in your methods/functions.*"
   ]
  },
  {
   "cell_type": "markdown",
   "id": "a9d37a6f",
   "metadata": {},
   "source": [
    "### Sort rank-2 arrays by specific axis"
   ]
  },
  {
   "cell_type": "code",
   "execution_count": 99,
   "id": "ee19e842",
   "metadata": {},
   "outputs": [
    {
     "name": "stdout",
     "output_type": "stream",
     "text": [
      "Original Z =\n",
      " [[ 79  91  99]\n",
      " [101  13 113]\n",
      " [100  94  72]]\n",
      "\n",
      "Z with sorted columns :\n",
      " [[ 79  13  72]\n",
      " [100  91  99]\n",
      " [101  94 113]]\n",
      "\n",
      "Z with sorted rows :\n",
      " [[ 79  91  99]\n",
      " [ 13 101 113]\n",
      " [ 72  94 100]]\n"
     ]
    }
   ],
   "source": [
    "# create an unsorted rank 2 ndarray\n",
    "Z = np.random.randint(150, size=(3, 3))\n",
    "print('Original Z =\\n', Z)\n",
    "print('\\nZ with sorted columns :\\n', np.sort(Z, axis=0))\n",
    "print('\\nZ with sorted rows :\\n', np.sort(Z, axis=1))"
   ]
  }
 ],
 "metadata": {
  "kernelspec": {
   "display_name": "Python [conda env:root] *",
   "language": "python",
   "name": "conda-root-py"
  },
  "language_info": {
   "codemirror_mode": {
    "name": "ipython",
    "version": 3
   },
   "file_extension": ".py",
   "mimetype": "text/x-python",
   "name": "python",
   "nbconvert_exporter": "python",
   "pygments_lexer": "ipython3",
   "version": "3.9.13"
  }
 },
 "nbformat": 4,
 "nbformat_minor": 5
}
