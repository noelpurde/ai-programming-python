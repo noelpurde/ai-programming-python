{
 "cells": [
  {
   "cell_type": "markdown",
   "id": "4fb589a4",
   "metadata": {},
   "source": [
    "# Slicing ndarrays"
   ]
  },
  {
   "cell_type": "code",
   "execution_count": 1,
   "id": "4d975f22",
   "metadata": {},
   "outputs": [],
   "source": [
    "import numpy as np"
   ]
  },
  {
   "cell_type": "markdown",
   "id": "b17c6eae",
   "metadata": {},
   "source": [
    "### Slicing in a 2-D ndarray"
   ]
  },
  {
   "cell_type": "code",
   "execution_count": 35,
   "id": "dce54d62",
   "metadata": {
    "scrolled": false
   },
   "outputs": [
    {
     "name": "stdout",
     "output_type": "stream",
     "text": [
      "x =\n",
      " [[ 0  1  2  3  4]\n",
      " [ 5  6  7  8  9]\n",
      " [10 11 12 13 14]\n",
      " [15 16 17 18 19]]\n",
      "\n",
      "y =\n",
      " [[ 7  8  9]\n",
      " [12 13 14]\n",
      " [17 18 19]]\n",
      "\n",
      "w =\n",
      " [[ 7  8  9]\n",
      " [12 13 14]\n",
      " [17 18 19]]\n",
      "\n",
      "z =\n",
      " [[ 2  3]\n",
      " [ 7  8]\n",
      " [12 13]]\n",
      "\n",
      "v =\n",
      " [10 11 12 13 14]\n",
      "\n",
      "q =\n",
      " [ 2  7 12 17]\n",
      "\n",
      "r =\n",
      " [[ 2]\n",
      " [ 7]\n",
      " [12]\n",
      " [17]]\n"
     ]
    }
   ],
   "source": [
    "# create a 4 x 5 ndarray that contains integers from 0 to 19\n",
    "x = np.arange(20).reshape(4, 5)\n",
    "print('x =\\n', x)\n",
    "\n",
    "# select all the elements that are in the 2nd through 4th rows and in the 3rd to 5th columns\n",
    "y = x[1:4, 2:5]\n",
    "print('\\ny =\\n', y)\n",
    "\n",
    "# select the same elements as above using method 2\n",
    "w = x[1:, 2:]\n",
    "print('\\nw =\\n', w)\n",
    "\n",
    "# select all the elements that are in the 1st through 3rd rows and in the 3rd to 4th columns\n",
    "z = x[:3, 2:4]\n",
    "print('\\nz =\\n', z)\n",
    "\n",
    "# select all the elements in the 3rd row\n",
    "v = x[2, :]\n",
    "print('\\nv =\\n', v)\n",
    "\n",
    "# select all the elements in the 3rd column\n",
    "q = x[:, 2]\n",
    "print('\\nq =\\n', q)\n",
    "\n",
    "# select all the elements in the 3rd column but return a rank 2 ndarray\n",
    "r = x[:, [2]]\n",
    "print('\\nr =\\n', r)"
   ]
  },
  {
   "cell_type": "markdown",
   "id": "a7a0a693",
   "metadata": {},
   "source": [
    "### Slicing and editing elements in a 2-D ndarray"
   ]
  },
  {
   "cell_type": "code",
   "execution_count": 47,
   "id": "20b48841",
   "metadata": {},
   "outputs": [
    {
     "name": "stdout",
     "output_type": "stream",
     "text": [
      "x =\n",
      " [[ 0  1  2  3  4]\n",
      " [ 5  6  7  8  9]\n",
      " [10 11 12 13 14]\n",
      " [15 16 17 18 19]]\n",
      "\n",
      "y =\n",
      " [[ 7  8  9]\n",
      " [12 13 14]\n",
      " [17 18 19]]\n",
      "\n",
      "x =\n",
      " [[  0   1   2   3   4]\n",
      " [  5   6   7   8   9]\n",
      " [ 10  11  12  13  14]\n",
      " [ 15  16  17  18 555]]\n"
     ]
    }
   ],
   "source": [
    "# create a 4 x 5 ndarray that contains integers from 0 to 19\n",
    "x = np.arange(20).reshape(4, 5)\n",
    "print('x =\\n', x)\n",
    "\n",
    "# select all the elements that are in the 2nd through 4th rows and in the 3rd to 4th columns\n",
    "y = x[1:4, 2:5]\n",
    "print('\\ny =\\n', y)\n",
    "\n",
    "# change the last element in y to 555\n",
    "y[2, 2] = 555\n",
    "\n",
    "print('\\nx =\\n', x)"
   ]
  },
  {
   "cell_type": "markdown",
   "id": "18188886",
   "metadata": {},
   "source": [
    "## `numpy.ndarray.copy`\n",
    "\n",
    "Syntax: `ndarray.copy(`*`order='C'`*`)`\n",
    "\n",
    "Returns a copy of the array."
   ]
  },
  {
   "cell_type": "code",
   "execution_count": 11,
   "id": "72a304f3",
   "metadata": {},
   "outputs": [
    {
     "name": "stdout",
     "output_type": "stream",
     "text": [
      "x =\n",
      " [[ 0  1  2  3  4]\n",
      " [ 5  6  7  8  9]\n",
      " [10 11 12 13 14]\n",
      " [15 16 17 18 19]]\n",
      "\n",
      "y =\n",
      " [[  7   8   9]\n",
      " [ 12  13  14]\n",
      " [ 17  18 555]]\n",
      "\n",
      "z =\n",
      " [[  7   8   9]\n",
      " [ 12  13  14]\n",
      " [ 17  18 444]]\n",
      "\n",
      "x =\n",
      " [[ 0  1  2  3  4]\n",
      " [ 5  6  7  8  9]\n",
      " [10 11 12 13 14]\n",
      " [15 16 17 18 19]]\n"
     ]
    }
   ],
   "source": [
    "# create a 4 x 5 ndarray that contains integers from 0 to 19\n",
    "x = np.arange(20).reshape(4, 5)\n",
    "print('x =\\n', x)\n",
    "\n",
    "# create a copy of the slice using the np.copy() function\n",
    "y = np.copy(x[1:4, 2:5])\n",
    "\n",
    "#  create a copy of the slice using the copy as a method\n",
    "z = x[1:4, 2:5].copy()\n",
    "\n",
    "# change the last element in y to 555\n",
    "y[2, 2] = 555\n",
    "\n",
    "# change the last element in z to 444\n",
    "z[2, 2] = 444\n",
    "\n",
    "print('\\ny =\\n', y)\n",
    "print('\\nz =\\n', z)\n",
    "print('\\nx =\\n', x)"
   ]
  },
  {
   "cell_type": "markdown",
   "id": "9b3c46fd",
   "metadata": {},
   "source": [
    "### Use an array as indices to either make slices, select, or change elements"
   ]
  },
  {
   "cell_type": "code",
   "execution_count": 25,
   "id": "357c2b02",
   "metadata": {},
   "outputs": [
    {
     "name": "stdout",
     "output_type": "stream",
     "text": [
      "x =\n",
      " [[ 0  1  2  3  4]\n",
      " [ 5  6  7  8  9]\n",
      " [10 11 12 13 14]\n",
      " [15 16 17 18 19]]\n",
      "\n",
      "indicies = [1 3]\n",
      "\n",
      "y =\n",
      " [[ 5  6  7  8  9]\n",
      " [15 16 17 18 19]]\n",
      "\n",
      "z =\n",
      " [[ 1  3]\n",
      " [ 6  8]\n",
      " [11 13]\n",
      " [16 18]]\n"
     ]
    }
   ],
   "source": [
    "# create a 4 x 5 ndarray that contains integers from 0 to 19\n",
    "x = np.arange(20).reshape(4, 5)\n",
    "\n",
    "# create a rank 1 ndarray that will serve as indices to select elements from x\n",
    "indices = np.array([1, 3])\n",
    "\n",
    "print('x =\\n', x)\n",
    "print('\\nindicies =', indices)\n",
    "\n",
    "# use the indices ndarray to select the 2nd and 4th row of X\n",
    "y = x[indices,:]\n",
    "\n",
    "# use the indices ndarray to select the 2nd and 4th column of X\n",
    "z = x[:, indices]\n",
    "\n",
    "print('\\ny =\\n', y)\n",
    "print('\\nz =\\n', z)"
   ]
  },
  {
   "cell_type": "markdown",
   "id": "9db6bbf5",
   "metadata": {},
   "source": [
    "### Use an array as indices to extract specific rows from a rank 2 ndarray"
   ]
  },
  {
   "cell_type": "code",
   "execution_count": 32,
   "id": "11e81123",
   "metadata": {},
   "outputs": [
    {
     "name": "stdout",
     "output_type": "stream",
     "text": [
      "Shape of x is:  (50, 5)\n"
     ]
    }
   ],
   "source": [
    "# Let's create a rank 2 ndarray\n",
    "x = np.random.randint(1, 20, size=(50, 5))\n",
    "print(\"Shape of x is: \", x.shape)"
   ]
  },
  {
   "cell_type": "code",
   "execution_count": 43,
   "id": "56d1cd13",
   "metadata": {},
   "outputs": [
    {
     "name": "stdout",
     "output_type": "stream",
     "text": [
      "Random 10 indices: [ 4 49  0 44 37  2 11  0  1 17]\n"
     ]
    }
   ],
   "source": [
    "# Create a rank 1 ndarray that contains a randomly chosen 10 values between `0` to `len(x)` (50)\n",
    "# The row_indices would represent the indices of rows of x\n",
    "row_indices = np.random.randint(0, 50, size=10)\n",
    "print(\"Random 10 indices:\", row_indices)"
   ]
  },
  {
   "cell_type": "code",
   "execution_count": 46,
   "id": "e72990d1",
   "metadata": {},
   "outputs": [
    {
     "name": "stdout",
     "output_type": "stream",
     "text": [
      "[[ 8  4  5 13  9]\n",
      " [ 9  1 14  6 11]\n",
      " [14  6  9  9 18]\n",
      " [ 7  8 16 12 13]\n",
      " [ 7 10 10  8 14]\n",
      " [18  4 11  5 17]\n",
      " [15 18 19 13 10]\n",
      " [14  6  9  9 18]\n",
      " [ 6  3  8  8 13]\n",
      " [16  7  2 19  8]]\n",
      "\n",
      "[[ 7 10 10  8 14]\n",
      " [18  4 11  5 17]\n",
      " [15 18 19 13 10]\n",
      " [14  6  9  9 18]]\n"
     ]
    }
   ],
   "source": [
    "# Print those rows of x whose indices are represented by entire row_indices ndarray\n",
    "x_subset = x[row_indices, :]\n",
    "print(x_subset)\n",
    "print()\n",
    "x_subset = x[row_indices[4:8], :]\n",
    "print(x_subset)"
   ]
  },
  {
   "cell_type": "markdown",
   "id": "c9e60832",
   "metadata": {},
   "source": [
    "## `numpy.diag`\n",
    "\n",
    "Syntax: `numpy.diag(array, k=0)`\n",
    "\n",
    "Extracts or constructs the diagonal elements."
   ]
  },
  {
   "cell_type": "code",
   "execution_count": 62,
   "id": "056eab51",
   "metadata": {},
   "outputs": [
    {
     "name": "stdout",
     "output_type": "stream",
     "text": [
      "x =\n",
      " [[ 1  2  3  4  5]\n",
      " [ 6  7  8  9 10]\n",
      " [11 12 13 14 15]\n",
      " [16 17 18 19 20]\n",
      " [21 22 23 24 25]]\n",
      "\n",
      "w =\n",
      " [ 1  7 13 19 25]\n",
      "\n",
      "y =\n",
      " [ 2  8 14 20]\n",
      "\n",
      "z =\n",
      " [ 6 12 18 24]\n"
     ]
    }
   ],
   "source": [
    "# create a 5 x 5 ndarray that contains integers from 1 to 26\n",
    "x = np.arange(1, 26).reshape(5, 5)\n",
    "print('x =\\n', x)\n",
    "\n",
    "print('\\nw =\\n', np.diag(x))\n",
    "\n",
    "print('\\ny =\\n', np.diag(x, k=1))\n",
    "\n",
    "print('\\nz =\\n', np.diag(x, k=-1))"
   ]
  },
  {
   "cell_type": "markdown",
   "id": "f4536187",
   "metadata": {},
   "source": [
    "## `numpy.unique`\n",
    "\n",
    "Syntax: `numpy.unique(`*`array, return_index=False, return_inverse=False, return_counts=False, axis=None`*`)`\n",
    "\n",
    "Returns the sorted unique elements of an array."
   ]
  },
  {
   "cell_type": "code",
   "execution_count": 67,
   "id": "5ca80422",
   "metadata": {},
   "outputs": [
    {
     "name": "stdout",
     "output_type": "stream",
     "text": [
      "The unique elements in x: [1 2 3 5 8]\n"
     ]
    }
   ],
   "source": [
    "x = np.array([[1, 2, 3],\n",
    "               [8, 5, 2],\n",
    "               [2, 1, 3]])\n",
    "\n",
    "print(\"The unique elements in x:\", np.unique(x))"
   ]
  }
 ],
 "metadata": {
  "kernelspec": {
   "display_name": "Python 3 (ipykernel)",
   "language": "python",
   "name": "python3"
  },
  "language_info": {
   "codemirror_mode": {
    "name": "ipython",
    "version": 3
   },
   "file_extension": ".py",
   "mimetype": "text/x-python",
   "name": "python",
   "nbconvert_exporter": "python",
   "pygments_lexer": "ipython3",
   "version": "3.9.13"
  }
 },
 "nbformat": 4,
 "nbformat_minor": 5
}
