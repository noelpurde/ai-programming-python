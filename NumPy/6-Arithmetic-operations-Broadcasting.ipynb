{
 "cells": [
  {
   "cell_type": "markdown",
   "id": "5daa6d5d",
   "metadata": {},
   "source": [
    "#  Arithmetic operations and Broadcasting"
   ]
  },
  {
   "cell_type": "code",
   "execution_count": 1,
   "id": "1ad6dbf8",
   "metadata": {},
   "outputs": [],
   "source": [
    "import numpy as np"
   ]
  },
  {
   "cell_type": "markdown",
   "id": "859297b0",
   "metadata": {},
   "source": [
    "### Element-wise arithmetic operations on 1-D arrays"
   ]
  },
  {
   "cell_type": "code",
   "execution_count": 14,
   "id": "57e5a618",
   "metadata": {},
   "outputs": [
    {
     "name": "stdout",
     "output_type": "stream",
     "text": [
      "x = [ 1  4  7 10]\n",
      "y = [3.5 5.5 7.5 9.5]\n",
      "\n",
      "x + y = [ 4.5  9.5 14.5 19.5]\n",
      "add(x, y) = [ 4.5  9.5 14.5 19.5]\n",
      "\n",
      "x - y = [-2.5 -1.5 -0.5  0.5]\n",
      "subtract(x, y) = [-2.5 -1.5 -0.5  0.5]\n",
      "\n",
      "x * y = [ 3.5 22.  52.5 95. ]\n",
      "multiply(x, y) = [ 3.5 22.  52.5 95. ]\n",
      "\n",
      "x / y = [0.28571429 0.72727273 0.93333333 1.05263158]\n",
      "divide(x, y) = [0.28571429 0.72727273 0.93333333 1.05263158]\n"
     ]
    }
   ],
   "source": [
    "# create two rank 1 ndarrays\n",
    "x = np.array([1, 4, 7, 10])\n",
    "y = np.array([3.5, 5.5, 7.5, 9.5])\n",
    "print('x =', x)\n",
    "print('y =', y)\n",
    "\n",
    "# perfrom basic element-wise operations using arithmetic symbols and functions\n",
    "\n",
    "# Addition\n",
    "print(\"\\nx + y =\", x + y)\n",
    "print(\"add(x, y) =\", np.add(x, y))\n",
    "\n",
    "# Subtraction\n",
    "print(\"\\nx - y =\", x - y)\n",
    "print(\"subtract(x, y) =\", np.subtract(x, y))\n",
    "\n",
    "# Multiplication\n",
    "print(\"\\nx * y =\", x * y)\n",
    "print(\"multiply(x, y) =\", np.multiply(x, y))\n",
    "\n",
    "# Division\n",
    "print(\"\\nx / y =\", x / y)\n",
    "print(\"divide(x, y) =\", np.divide(x, y))"
   ]
  },
  {
   "cell_type": "markdown",
   "id": "b2db3d1e",
   "metadata": {},
   "source": [
    "### Element-wise arithmetic operations on a 2-D array (Same shape)"
   ]
  },
  {
   "cell_type": "code",
   "execution_count": 19,
   "id": "5bc5aac5",
   "metadata": {},
   "outputs": [
    {
     "name": "stdout",
     "output_type": "stream",
     "text": [
      "X =\n",
      " [[ 1  4]\n",
      " [ 7 10]]\n",
      "\n",
      "Y =\n",
      " [[3.5 5.5]\n",
      " [7.5 9.5]]\n",
      "\n",
      "X + Y =\n",
      " [[ 4.5  9.5]\n",
      " [14.5 19.5]]\n",
      "\n",
      "add(X, Y) =\n",
      " [[ 4.5  9.5]\n",
      " [14.5 19.5]]\n",
      "\n",
      "X - Y =\n",
      " [[-2.5 -1.5]\n",
      " [-0.5  0.5]]\n",
      "\n",
      "subtract(X, Y) =\n",
      " [[-2.5 -1.5]\n",
      " [-0.5  0.5]]\n",
      "\n",
      "X * Y =\n",
      " [[ 3.5 22. ]\n",
      " [52.5 95. ]]\n",
      "\n",
      "multiplY(X, Y) =\n",
      " [[ 3.5 22. ]\n",
      " [52.5 95. ]]\n",
      "\n",
      "X / Y =\n",
      " [[0.28571429 0.72727273]\n",
      " [0.93333333 1.05263158]]\n",
      "\n",
      "divide(X, Y) =\n",
      " [[0.28571429 0.72727273]\n",
      " [0.93333333 1.05263158]]\n"
     ]
    }
   ],
   "source": [
    "# create two rank 1 ndarrays\n",
    "X = np.array([1, 4, 7, 10]).reshape(2, 2)\n",
    "Y = np.array([3.5, 5.5, 7.5, 9.5]).reshape(2, 2)\n",
    "print('X =\\n', X)\n",
    "print('\\nY =\\n', Y)\n",
    "\n",
    "# perfrom basic element-wise operations using arithmetic symbols and functions\n",
    "\n",
    "# Addition\n",
    "print(\"\\nX + Y =\\n\", X + Y)\n",
    "print(\"\\nadd(X, Y) =\\n\", np.add(X, Y))\n",
    "\n",
    "# Subtraction\n",
    "print(\"\\nX - Y =\\n\", X - Y)\n",
    "print(\"\\nsubtract(X, Y) =\\n\", np.subtract(X, Y))\n",
    "\n",
    "# Multiplication\n",
    "print(\"\\nX * Y =\\n\", X * Y)\n",
    "print(\"\\nmultiplY(X, Y) =\\n\", np.multiply(X, Y))\n",
    "\n",
    "# Division\n",
    "print(\"\\nX / Y =\\n\", X / Y)\n",
    "print(\"\\ndivide(X, Y) =\\n\", np.divide(X, Y))"
   ]
  },
  {
   "cell_type": "markdown",
   "id": "0e14a30b",
   "metadata": {},
   "source": [
    "### Additional mathematical functions"
   ]
  },
  {
   "cell_type": "code",
   "execution_count": 28,
   "id": "4c8bba86",
   "metadata": {},
   "outputs": [
    {
     "name": "stdout",
     "output_type": "stream",
     "text": [
      "x = [1 2 3 4]\n",
      "\n",
      "EXP(x) = [ 2.71828183  7.3890561  20.08553692 54.59815003]\n",
      "\n",
      "SQRT(x) = [1.         1.41421356 1.73205081 2.        ]\n",
      "\n",
      "POW(x, 2) = [ 1  4  9 16]\n"
     ]
    }
   ],
   "source": [
    "x = np.array([1, 2, 3, 4])\n",
    "print(\"x =\", x)\n",
    "\n",
    "# apply different mathematical functions to all elements of x\n",
    "print(\"\\nEXP(x) =\", np.exp(x))\n",
    "print(\"\\nSQRT(x) =\", np.sqrt(x))\n",
    "print(\"\\nPOW(x, 2) =\", np.power(x, 2))"
   ]
  },
  {
   "cell_type": "markdown",
   "id": "07f6d54b",
   "metadata": {},
   "source": [
    "### Statistical functions"
   ]
  },
  {
   "cell_type": "code",
   "execution_count": 19,
   "id": "0c6ed521",
   "metadata": {},
   "outputs": [
    {
     "name": "stdout",
     "output_type": "stream",
     "text": [
      "x =\n",
      " [[1 2]\n",
      " [3 4]]\n",
      "\n",
      "Average of all elements in x:  2.5\n",
      "Average of all elements in the columns of x: [2. 3.]\n",
      "Average of all elements in the rows of x: [1.5 3.5]\n",
      "\n",
      "Sum of all elements in x: 10\n",
      "Sum of all elements in the columns of x: [4 6]\n",
      "Sum of all elements in the rows of x: [3 7]\n",
      "\n",
      "Standard Deviation of all elements in x: 1.118033988749895\n",
      "Standard Deviation of all elements in the columns of x: [1. 1.]\n",
      "Standard Deviation of all elements in the rows of x: [0.5 0.5]\n",
      "\n",
      "Median of all elements in x: 2.5\n",
      "Median of all elements in the columns of x: [2. 3.]\n",
      "Median of all elements in the rows of x: [1.5 3.5]\n",
      "\n",
      "Maximum value of all elements in x: 4\n",
      "Maximum value of all elements in the columns of x: [3 4]\n",
      "Maximum value of all elements in the rows of x: [2 4]\n",
      "\n",
      "Minimum value of all elements in x: 1\n",
      "Minimum value of all elements in the columns of x: [1 2]\n",
      "Minimum value of all elements in the rows of x: [1 3]\n"
     ]
    }
   ],
   "source": [
    "x = np.array([1, 2, 3, 4]).reshape(2, 2)\n",
    "print('x =\\n', x)\n",
    "\n",
    "print(\"\\nAverage of all elements in x: \", x.mean())\n",
    "print(\"Average of all elements in the columns of x:\", x.mean(axis=0))\n",
    "print(\"Average of all elements in the rows of x:\", x.mean(axis=1))\n",
    "\n",
    "print(\"\\nSum of all elements in x:\", x.sum())\n",
    "print(\"Sum of all elements in the columns of x:\", x.sum(axis=0))\n",
    "print(\"Sum of all elements in the rows of x:\", x.sum(axis=1))\n",
    "\n",
    "print(\"\\nStandard Deviation of all elements in x:\", x.std())\n",
    "print(\"Standard Deviation of all elements in the columns of x:\", x.std(axis=0))\n",
    "print(\"Standard Deviation of all elements in the rows of x:\", x.std(axis=1))\n",
    "\n",
    "print(\"\\nMedian of all elements in x:\", np.median(x))\n",
    "print(\"Median of all elements in the columns of x:\", np.median(x, axis=0))\n",
    "print(\"Median of all elements in the rows of x:\", np.median(x, axis=1))\n",
    "\n",
    "print(\"\\nMaximum value of all elements in x:\", x.max())\n",
    "print(\"Maximum value of all elements in the columns of x:\", x.max(axis=0))\n",
    "print(\"Maximum value of all elements in the rows of x:\", x.max(axis=1))\n",
    "\n",
    "print(\"\\nMinimum value of all elements in x:\", x.min())\n",
    "print(\"Minimum value of all elements in the columns of x:\", x.min(axis=0))\n",
    "print(\"Minimum value of all elements in the rows of x:\", x.min(axis=1))"
   ]
  },
  {
   "cell_type": "markdown",
   "id": "aa0e0ae9",
   "metadata": {},
   "source": [
    "### Change value of all elements of an array"
   ]
  },
  {
   "cell_type": "code",
   "execution_count": 29,
   "id": "5da57725",
   "metadata": {},
   "outputs": [
    {
     "name": "stdout",
     "output_type": "stream",
     "text": [
      "X =\n",
      " [[1 2]\n",
      " [3 4]]\n",
      "\n",
      "3 * X =\n",
      " [[ 3  6]\n",
      " [ 9 12]]\n",
      "\n",
      "3 / X =\n",
      " [[3.   1.5 ]\n",
      " [1.   0.75]]\n",
      "\n",
      "3 + X =\n",
      " [[4 5]\n",
      " [6 7]]\n",
      "\n",
      "3 - X =\n",
      " [[ 2  1]\n",
      " [ 0 -1]]\n"
     ]
    }
   ],
   "source": [
    "print('X =\\n', x)\n",
    "print('\\n3 * X =\\n', 3 * x)\n",
    "print('\\n3 / X =\\n', 3 / x)\n",
    "print('\\n3 + X =\\n', 3 + x)\n",
    "print('\\n3 - X =\\n', 3 - x)"
   ]
  },
  {
   "cell_type": "markdown",
   "id": "d1b72455",
   "metadata": {},
   "source": [
    "### Arithmetic operations on 2-D arrays (Compatible shape)"
   ]
  },
  {
   "cell_type": "code",
   "execution_count": 47,
   "id": "ece366e2",
   "metadata": {
    "scrolled": false
   },
   "outputs": [
    {
     "name": "stdout",
     "output_type": "stream",
     "text": [
      "X =\n",
      " [1 2 3]\n",
      "\n",
      "Y =\n",
      " [[1]\n",
      " [2]\n",
      " [3]]\n",
      "\n",
      "Z =\n",
      " [[1 2 3]\n",
      " [4 5 6]\n",
      " [7 8 9]]\n",
      "\n",
      "X + Y =\n",
      " [[2 3 4]\n",
      " [3 4 5]\n",
      " [4 5 6]]\n",
      "\n",
      "X + Z =\n",
      " [[ 2  4  6]\n",
      " [ 5  7  9]\n",
      " [ 8 10 12]]\n",
      "\n",
      "Y + Z =\n",
      " [[ 2  3  4]\n",
      " [ 6  7  8]\n",
      " [10 11 12]]\n"
     ]
    }
   ],
   "source": [
    "# create a rank 1 ndarray\n",
    "X = np.array([1, 2, 3])\n",
    "# create a 3x1 ndarray\n",
    "Y = np.array([1, 2, 3]).reshape(3, 1)\n",
    "# create a 3x3 array\n",
    "Z = np.arange(1, 10).reshape(3, 3)\n",
    "\n",
    "print('X =\\n', X)\n",
    "print('\\nY =\\n', Y)\n",
    "print('\\nZ =\\n', Z)\n",
    "\n",
    "print('\\nX + Y =\\n', X + Y)\n",
    "print('\\nX + Z =\\n', X + Z)\n",
    "print('\\nY + Z =\\n', Y + Z)"
   ]
  }
 ],
 "metadata": {
  "kernelspec": {
   "display_name": "Python [conda env:root] *",
   "language": "python",
   "name": "conda-root-py"
  },
  "language_info": {
   "codemirror_mode": {
    "name": "ipython",
    "version": 3
   },
   "file_extension": ".py",
   "mimetype": "text/x-python",
   "name": "python",
   "nbconvert_exporter": "python",
   "pygments_lexer": "ipython3",
   "version": "3.9.13"
  }
 },
 "nbformat": 4,
 "nbformat_minor": 5
}
