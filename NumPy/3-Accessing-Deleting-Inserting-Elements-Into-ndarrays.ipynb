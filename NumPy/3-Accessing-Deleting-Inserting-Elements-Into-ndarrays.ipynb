{
 "cells": [
  {
   "cell_type": "markdown",
   "id": "4fb589a4",
   "metadata": {},
   "source": [
    "# Accessing, Deleting, and Inserting Elements Into ndarrays"
   ]
  },
  {
   "cell_type": "markdown",
   "id": "b17c6eae",
   "metadata": {},
   "source": [
    "### Access individual elements of 1-D array"
   ]
  },
  {
   "cell_type": "code",
   "execution_count": 1,
   "id": "4d975f22",
   "metadata": {},
   "outputs": [],
   "source": [
    "import numpy as np"
   ]
  },
  {
   "cell_type": "code",
   "execution_count": 8,
   "id": "78cd4231",
   "metadata": {},
   "outputs": [
    {
     "name": "stdout",
     "output_type": "stream",
     "text": [
      "x = [1 2 3 4 5]\n",
      "\n",
      "The first element in x: 1\n",
      "The second element in x: 2\n",
      "The fifth (last) element in x: 5\n",
      "\n",
      "The first element in x: 1\n",
      "The second element in x: 2\n",
      "The fifth (last) element in x: 5\n"
     ]
    }
   ],
   "source": [
    "# Create a rank 1 ndarray that contains integers from 1 to 5\n",
    "x = np.arange(1, 6)\n",
    "print('x =', x)\n",
    "print()\n",
    "# Let's access some elements with positive indices\n",
    "print(\"The first element in x:\", x[0])\n",
    "print(\"The second element in x:\", x[1])\n",
    "print(\"The fifth (last) element in x:\", x[4])\n",
    "print()\n",
    "# Let's access the same elements with negative indices\n",
    "print(\"The first element in x:\", x[-5])\n",
    "print(\"The second element in x:\", x[-4])\n",
    "print(\"The fifth (last) element in x:\", x[-1])"
   ]
  },
  {
   "cell_type": "markdown",
   "id": "65bfc752",
   "metadata": {},
   "source": [
    "### Modify an element of 1-D array"
   ]
  },
  {
   "cell_type": "code",
   "execution_count": 11,
   "id": "b73e7fd4",
   "metadata": {},
   "outputs": [
    {
     "name": "stdout",
     "output_type": "stream",
     "text": [
      "Original:\n",
      " x = [1 2 3 4 5]\n",
      "\n",
      "Modified:\n",
      " x = [ 1  2  3 20  5]\n"
     ]
    }
   ],
   "source": [
    "# Create a rank 1 ndarray that contains integers from 1 to 5\n",
    "x = np.arange(1, 6)\n",
    "print('Original:\\n x =', x)\n",
    "print()\n",
    "# Change the fourth element in x from 4 to 20\n",
    "x[3] = 20\n",
    "\n",
    "print('Modified:\\n x =', x)"
   ]
  },
  {
   "cell_type": "markdown",
   "id": "a93b92ea",
   "metadata": {},
   "source": [
    "### Access individual elements of 2-D array\n",
    "\n",
    "To access elements in rank 2 ndarrays we need to provide 2 indices in the form `[row, column]`"
   ]
  },
  {
   "cell_type": "code",
   "execution_count": 20,
   "id": "8d3dc6bc",
   "metadata": {},
   "outputs": [
    {
     "name": "stdout",
     "output_type": "stream",
     "text": [
      "X =\n",
      " [[1 2 3]\n",
      " [4 5 6]\n",
      " [7 8 9]]\n",
      "\n",
      "This is (0,0) Element in X: 1\n",
      "This is (0,1) Element in X: 2\n",
      "This is (2,2) Element in X: 9\n"
     ]
    }
   ],
   "source": [
    "# Create a 3 x 3 rank 2 ndarray that contains integers from 1 to 9\n",
    "X = np.arange(1, 10).reshape(3, 3)\n",
    "print('X =\\n', X)\n",
    "print()\n",
    "\n",
    "# Let's access some elements in X\n",
    "print('This is (0,0) Element in X:', X[0, 0])\n",
    "print('This is (0,1) Element in X:', X[0, 1])\n",
    "print('This is (2,2) Element in X:', X[2, 2])"
   ]
  },
  {
   "cell_type": "markdown",
   "id": "59c92d49",
   "metadata": {},
   "source": [
    "### Modify an element of 2-D array"
   ]
  },
  {
   "cell_type": "code",
   "execution_count": 29,
   "id": "39266323",
   "metadata": {},
   "outputs": [
    {
     "name": "stdout",
     "output_type": "stream",
     "text": [
      "Original:\n",
      "X =\n",
      " [[1 2 3]\n",
      " [4 5 6]\n",
      " [7 8 9]]\n",
      "\n",
      "Modified:\n",
      "X =\n",
      " [[20  2  3]\n",
      " [ 4  5  6]\n",
      " [ 7  8  9]]\n"
     ]
    }
   ],
   "source": [
    "# Create a 3 x 3 rank 2 ndarray that contains integers from 1 to 9\n",
    "X = np.arange(1, 10).reshape(3, 3)\n",
    "print('Original:\\nX =\\n', X)\n",
    "print()\n",
    "# Change the (0,0) element in X from 1 to 20\n",
    "X[0, 0] = 20\n",
    "\n",
    "print('Modified:\\nX =\\n', X)"
   ]
  },
  {
   "cell_type": "markdown",
   "id": "4ec10f0e",
   "metadata": {},
   "source": [
    "## `numpy.delete` function\n",
    "\n",
    "Syntax: `numpy.delete(ndarray, elements, axis)`\n",
    "\n",
    "This function `deletes` the given list of `elements` from the given `ndarray` along the specified `axis`."
   ]
  },
  {
   "cell_type": "code",
   "execution_count": 42,
   "id": "2cf856f8",
   "metadata": {},
   "outputs": [
    {
     "name": "stdout",
     "output_type": "stream",
     "text": [
      "Original x = [1 2 3 4 5]\n",
      "Modified x =  [2 3 4]\n",
      "\n",
      "Original Y = \n",
      " [[1 2 3]\n",
      " [4 5 6]\n",
      " [7 8 9]]\n",
      "\n",
      "w =\n",
      " [[4 5 6]\n",
      " [7 8 9]]\n",
      "\n",
      "v =\n",
      " [[2]\n",
      " [5]\n",
      " [8]]\n"
     ]
    }
   ],
   "source": [
    "# Create a rank 1 ndarray\n",
    "x = np.array([1, 2, 3, 4, 5])\n",
    "\n",
    "# Create a rank 2 ndarray\n",
    "Y = np.arange(1, 10).reshape(3, 3)\n",
    "\n",
    "print('Original x =', x)\n",
    "# delete the first and last element of x\n",
    "x = np.delete(x, [0, 4])\n",
    "print('Modified x = ', x)\n",
    "\n",
    "print('\\nOriginal Y = \\n', Y)\n",
    "# delete the first row of Y\n",
    "w = np.delete(Y, [0], axis=0)\n",
    "\n",
    "# delete the first and last column of Y\n",
    "v = np.delete(Y, [0, 2], axis=1)\n",
    "\n",
    "print('\\nw =\\n', w)\n",
    "print('\\nv =\\n', v)"
   ]
  },
  {
   "cell_type": "markdown",
   "id": "6066222a",
   "metadata": {},
   "source": [
    "## numpy.append\n",
    "\n",
    "Syntax: `numpy.append(array, values, axis=None)`\n",
    "\n",
    "This function appends the given list of `elements` to `ndarray` along the specified `axis`."
   ]
  },
  {
   "cell_type": "markdown",
   "id": "7ed4a120",
   "metadata": {},
   "source": [
    "### Append elements"
   ]
  },
  {
   "cell_type": "code",
   "execution_count": 60,
   "id": "305ac1b7",
   "metadata": {},
   "outputs": [
    {
     "name": "stdout",
     "output_type": "stream",
     "text": [
      "Original x = [1 2 3 4 5]\n",
      "x = [1 2 3 4 5 6]\n",
      "x = [1 2 3 4 5 6 7 8]\n",
      "\n",
      "Original y =\n",
      " [[1 2 3]\n",
      " [4 5 6]]\n",
      "\n",
      "v =\n",
      " [[1 2 3]\n",
      " [4 5 6]\n",
      " [7 8 9]]\n",
      "\n",
      "q =\n",
      " [[ 1  2  3  9]\n",
      " [ 4  5  6 10]]\n"
     ]
    }
   ],
   "source": [
    "# create a rank 1 ndarray\n",
    "x = np.arange(1, 6)\n",
    "\n",
    "# create a rank 2 ndarray\n",
    "y = np.arange(1, 7).reshape(2, 3)\n",
    "\n",
    "\n",
    "print('Original x =', x)\n",
    "# append the integer 6 to x\n",
    "x = np.append(x, 6)\n",
    "print('x =', x)\n",
    "\n",
    "# append the integer 7 and 8 to x\n",
    "x = np.append(x, [7, 8])\n",
    "print('x =', x)\n",
    "\n",
    "print('\\nOriginal y =\\n', y)\n",
    "# append a new row containing 7,8,9 to y\n",
    "v = np.append(y, [[7, 8, 9]], axis=0)\n",
    "\n",
    "# append a new column containing 9 and 10 to y\n",
    "q = np.append(y, [[9], [10]], axis=1)\n",
    "\n",
    "print('\\nv =\\n', v)\n",
    "print('\\nq =\\n', q)"
   ]
  },
  {
   "cell_type": "markdown",
   "id": "0b385473",
   "metadata": {},
   "source": [
    "## `numpy.insert`\n",
    "\n",
    "Syntax: `numpy.insert(ndarray, index, elements, axis)`\n",
    "\n",
    "This function inserts the given list of `elements` to `ndarray` right before the given `index` along the specified `axis`."
   ]
  },
  {
   "cell_type": "markdown",
   "id": "710a4e67",
   "metadata": {},
   "source": [
    "### Insert elements"
   ]
  },
  {
   "cell_type": "code",
   "execution_count": 80,
   "id": "99982749",
   "metadata": {},
   "outputs": [
    {
     "name": "stdout",
     "output_type": "stream",
     "text": [
      "Original x = [1 2 5 6 7]\n",
      "x = [1 2 3 4 5 6 7]\n",
      "\n",
      "Original y =\n",
      " [[1 2 3]\n",
      " [7 8 9]]\n",
      "\n",
      "w =\n",
      " [[1 2 3]\n",
      " [4 5 6]\n",
      " [7 8 9]]\n",
      "\n",
      "v =\n",
      " [[1 5 2 3]\n",
      " [7 5 8 9]]\n"
     ]
    }
   ],
   "source": [
    "# create a rank 1 ndarray \n",
    "x = np.array([1, 2, 5, 6, 7])\n",
    "\n",
    "# create a rank 2 ndarray \n",
    "y = np.array([[1,2,3],\n",
    "              [7,8,9]])\n",
    "\n",
    "print('Original x =', x)\n",
    "\n",
    "# insert the integer 3 and 4 between 2 and 5 in x\n",
    "x = np.insert(x, 2, [3, 4])\n",
    "print('x =', x)\n",
    "\n",
    "print('\\nOriginal y =\\n', y)\n",
    "\n",
    "# insert a row between the first and last row of y\n",
    "w = np.insert(y, 1, [4, 5, 6], axis=0)\n",
    "\n",
    "# insert a column full of 5s between the first and second column of y\n",
    "v = np.insert(y, 1, [5], axis=1)\n",
    "\n",
    "print('\\nw =\\n', w)\n",
    "print('\\nv =\\n', v)"
   ]
  },
  {
   "cell_type": "markdown",
   "id": "587bc62b",
   "metadata": {},
   "source": [
    "## `numpy.hstack` and `numpy.vstack`\n",
    "\n",
    "Syntax:\n",
    "\n",
    "`numpy.hstack(`*`sequence_of_ndarray`*`)` - Returns a stacked array formed by stacking the given arrays in sequence horizontally (column-wise).\n",
    "\n",
    "`numpy.vstack(`*`sequence_of_ndarray`*`)` - Returns a stacked array formed by stacking the given arrays, will be at least 2-D, in sequence vertically (row-wise)."
   ]
  },
  {
   "cell_type": "markdown",
   "id": "7b590040",
   "metadata": {},
   "source": [
    "### Stack arrays"
   ]
  },
  {
   "cell_type": "code",
   "execution_count": 126,
   "id": "1638a0a6",
   "metadata": {},
   "outputs": [
    {
     "name": "stdout",
     "output_type": "stream",
     "text": [
      "x = [1 2]\n",
      "\n",
      "y =\n",
      " [[3 4]\n",
      " [5 6]]\n",
      "\n",
      "z =\n",
      " [[1 2]\n",
      " [3 4]\n",
      " [5 6]]\n",
      "\n",
      "w =\n",
      " [[3 4 1]\n",
      " [5 6 2]]\n"
     ]
    }
   ],
   "source": [
    "# create a rank 1 ndarray \n",
    "x = np.array([1, 2])\n",
    "\n",
    "# create a rank 2 ndarray \n",
    "y = np.array([[3, 4],\n",
    "              [5, 6]])\n",
    "\n",
    "print('x =', x)\n",
    "print('\\ny =\\n', y)\n",
    "\n",
    "# stack x on top of y\n",
    "z = np.vstack((x, y))\n",
    "\n",
    "# stack x on the right of Y. We need to reshape x in order to stack it on the right of Y\n",
    "w = np.hstack(( y, x.reshape(2, 1) ))\n",
    "\n",
    "print('\\nz =\\n', z)\n",
    "print('\\nw =\\n', w)"
   ]
  }
 ],
 "metadata": {
  "kernelspec": {
   "display_name": "Python 3 (ipykernel)",
   "language": "python",
   "name": "python3"
  },
  "language_info": {
   "codemirror_mode": {
    "name": "ipython",
    "version": 3
   },
   "file_extension": ".py",
   "mimetype": "text/x-python",
   "name": "python",
   "nbconvert_exporter": "python",
   "pygments_lexer": "ipython3",
   "version": "3.9.13"
  }
 },
 "nbformat": 4,
 "nbformat_minor": 5
}
